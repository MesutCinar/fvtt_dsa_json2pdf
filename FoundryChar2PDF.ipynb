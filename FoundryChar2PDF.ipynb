{
  "nbformat": 4,
  "nbformat_minor": 0,
  "metadata": {
    "colab": {
      "provenance": [],
      "mount_file_id": "1IkGMlPB_ZRYGjbeHYCkdZ0SAEi2LxkB0",
      "authorship_tag": "ABX9TyPpCfN4iu9UsFcpF/Dn3Wnk"
    },
    "kernelspec": {
      "name": "python3",
      "display_name": "Python 3"
    },
    "language_info": {
      "name": "python"
    }
  },
  "cells": [
    {
      "cell_type": "code",
      "source": [],
      "metadata": {
        "id": "yCvSgHLHE5yl"
      },
      "execution_count": null,
      "outputs": []
    },
    {
      "cell_type": "markdown",
      "source": [
        "Modul zur Konvertierung von HTML nach PDF installieren"
      ],
      "metadata": {
        "id": "2vXD3q1dFVe0"
      }
    },
    {
      "cell_type": "code",
      "execution_count": 5,
      "metadata": {
        "id": "Pf51wNznDmRB",
        "colab": {
          "base_uri": "https://localhost:8080/"
        },
        "collapsed": true,
        "outputId": "7a8073db-e423-49f7-8879-4dec4ba27df7"
      },
      "outputs": [
        {
          "output_type": "stream",
          "name": "stdout",
          "text": [
            "Collecting xhtml2pdf\n",
            "  Downloading xhtml2pdf-0.2.16-py3-none-any.whl.metadata (22 kB)\n",
            "Collecting arabic-reshaper>=3.0.0 (from xhtml2pdf)\n",
            "  Downloading arabic_reshaper-3.0.0-py3-none-any.whl.metadata (12 kB)\n",
            "Requirement already satisfied: html5lib>=1.1 in /usr/local/lib/python3.10/dist-packages (from xhtml2pdf) (1.1)\n",
            "Requirement already satisfied: Pillow>=8.1.1 in /usr/local/lib/python3.10/dist-packages (from xhtml2pdf) (9.4.0)\n",
            "Collecting pyHanko>=0.12.1 (from xhtml2pdf)\n",
            "  Downloading pyHanko-0.25.1-py3-none-any.whl.metadata (9.4 kB)\n",
            "Collecting pyhanko-certvalidator>=0.19.5 (from xhtml2pdf)\n",
            "  Downloading pyhanko_certvalidator-0.26.3-py3-none-any.whl.metadata (5.3 kB)\n",
            "Collecting pypdf>=3.1.0 (from xhtml2pdf)\n",
            "  Downloading pypdf-4.3.1-py3-none-any.whl.metadata (7.4 kB)\n",
            "Collecting python-bidi>=0.4.2 (from xhtml2pdf)\n",
            "  Downloading python_bidi-0.6.0-cp310-cp310-manylinux_2_17_x86_64.manylinux2014_x86_64.whl.metadata (4.6 kB)\n",
            "Collecting reportlab<5,>=4.0.4 (from xhtml2pdf)\n",
            "  Downloading reportlab-4.2.2-py3-none-any.whl.metadata (1.4 kB)\n",
            "Collecting svglib>=1.2.1 (from xhtml2pdf)\n",
            "  Downloading svglib-1.5.1.tar.gz (913 kB)\n",
            "\u001b[2K     \u001b[90m━━━━━━━━━━━━━━━━━━━━━━━━━━━━━━━━━━━━━━━━\u001b[0m \u001b[32m913.9/913.9 kB\u001b[0m \u001b[31m13.6 MB/s\u001b[0m eta \u001b[36m0:00:00\u001b[0m\n",
            "\u001b[?25h  Preparing metadata (setup.py) ... \u001b[?25l\u001b[?25hdone\n",
            "Requirement already satisfied: six>=1.9 in /usr/local/lib/python3.10/dist-packages (from html5lib>=1.1->xhtml2pdf) (1.16.0)\n",
            "Requirement already satisfied: webencodings in /usr/local/lib/python3.10/dist-packages (from html5lib>=1.1->xhtml2pdf) (0.5.1)\n",
            "Requirement already satisfied: asn1crypto>=1.5.1 in /usr/local/lib/python3.10/dist-packages (from pyHanko>=0.12.1->xhtml2pdf) (1.5.1)\n",
            "Collecting qrcode>=7.3.1 (from pyHanko>=0.12.1->xhtml2pdf)\n",
            "  Downloading qrcode-7.4.2-py3-none-any.whl.metadata (17 kB)\n",
            "Requirement already satisfied: tzlocal>=4.3 in /usr/local/lib/python3.10/dist-packages (from pyHanko>=0.12.1->xhtml2pdf) (5.2)\n",
            "Requirement already satisfied: click>=8.1.3 in /usr/local/lib/python3.10/dist-packages (from pyHanko>=0.12.1->xhtml2pdf) (8.1.7)\n",
            "Requirement already satisfied: requests>=2.31.0 in /usr/local/lib/python3.10/dist-packages (from pyHanko>=0.12.1->xhtml2pdf) (2.32.3)\n",
            "Requirement already satisfied: pyyaml>=6.0 in /usr/local/lib/python3.10/dist-packages (from pyHanko>=0.12.1->xhtml2pdf) (6.0.2)\n",
            "Requirement already satisfied: cryptography>=42.0.1 in /usr/local/lib/python3.10/dist-packages (from pyHanko>=0.12.1->xhtml2pdf) (43.0.0)\n",
            "Collecting oscrypto>=1.1.0 (from pyhanko-certvalidator>=0.19.5->xhtml2pdf)\n",
            "  Downloading oscrypto-1.3.0-py2.py3-none-any.whl.metadata (15 kB)\n",
            "Collecting uritools>=3.0.1 (from pyhanko-certvalidator>=0.19.5->xhtml2pdf)\n",
            "  Downloading uritools-4.0.3-py3-none-any.whl.metadata (4.7 kB)\n",
            "Requirement already satisfied: typing_extensions>=4.0 in /usr/local/lib/python3.10/dist-packages (from pypdf>=3.1.0->xhtml2pdf) (4.12.2)\n",
            "Requirement already satisfied: chardet in /usr/local/lib/python3.10/dist-packages (from reportlab<5,>=4.0.4->xhtml2pdf) (5.2.0)\n",
            "Requirement already satisfied: lxml in /usr/local/lib/python3.10/dist-packages (from svglib>=1.2.1->xhtml2pdf) (4.9.4)\n",
            "Requirement already satisfied: tinycss2>=0.6.0 in /usr/local/lib/python3.10/dist-packages (from svglib>=1.2.1->xhtml2pdf) (1.3.0)\n",
            "Collecting cssselect2>=0.2.0 (from svglib>=1.2.1->xhtml2pdf)\n",
            "  Downloading cssselect2-0.7.0-py3-none-any.whl.metadata (2.9 kB)\n",
            "Requirement already satisfied: cffi>=1.12 in /usr/local/lib/python3.10/dist-packages (from cryptography>=42.0.1->pyHanko>=0.12.1->xhtml2pdf) (1.17.0)\n",
            "Collecting pypng (from qrcode>=7.3.1->pyHanko>=0.12.1->xhtml2pdf)\n",
            "  Downloading pypng-0.20220715.0-py3-none-any.whl.metadata (13 kB)\n",
            "Requirement already satisfied: charset-normalizer<4,>=2 in /usr/local/lib/python3.10/dist-packages (from requests>=2.31.0->pyHanko>=0.12.1->xhtml2pdf) (3.3.2)\n",
            "Requirement already satisfied: idna<4,>=2.5 in /usr/local/lib/python3.10/dist-packages (from requests>=2.31.0->pyHanko>=0.12.1->xhtml2pdf) (3.8)\n",
            "Requirement already satisfied: urllib3<3,>=1.21.1 in /usr/local/lib/python3.10/dist-packages (from requests>=2.31.0->pyHanko>=0.12.1->xhtml2pdf) (2.0.7)\n",
            "Requirement already satisfied: certifi>=2017.4.17 in /usr/local/lib/python3.10/dist-packages (from requests>=2.31.0->pyHanko>=0.12.1->xhtml2pdf) (2024.8.30)\n",
            "Requirement already satisfied: pycparser in /usr/local/lib/python3.10/dist-packages (from cffi>=1.12->cryptography>=42.0.1->pyHanko>=0.12.1->xhtml2pdf) (2.22)\n",
            "Downloading xhtml2pdf-0.2.16-py3-none-any.whl (125 kB)\n",
            "\u001b[2K   \u001b[90m━━━━━━━━━━━━━━━━━━━━━━━━━━━━━━━━━━━━━━━━\u001b[0m \u001b[32m125.0/125.0 kB\u001b[0m \u001b[31m7.9 MB/s\u001b[0m eta \u001b[36m0:00:00\u001b[0m\n",
            "\u001b[?25hDownloading arabic_reshaper-3.0.0-py3-none-any.whl (20 kB)\n",
            "Downloading pyHanko-0.25.1-py3-none-any.whl (446 kB)\n",
            "\u001b[2K   \u001b[90m━━━━━━━━━━━━━━━━━━━━━━━━━━━━━━━━━━━━━━━━\u001b[0m \u001b[32m447.0/447.0 kB\u001b[0m \u001b[31m25.2 MB/s\u001b[0m eta \u001b[36m0:00:00\u001b[0m\n",
            "\u001b[?25hDownloading pyhanko_certvalidator-0.26.3-py3-none-any.whl (109 kB)\n",
            "\u001b[2K   \u001b[90m━━━━━━━━━━━━━━━━━━━━━━━━━━━━━━━━━━━━━━━━\u001b[0m \u001b[32m109.4/109.4 kB\u001b[0m \u001b[31m7.0 MB/s\u001b[0m eta \u001b[36m0:00:00\u001b[0m\n",
            "\u001b[?25hDownloading pypdf-4.3.1-py3-none-any.whl (295 kB)\n",
            "\u001b[2K   \u001b[90m━━━━━━━━━━━━━━━━━━━━━━━━━━━━━━━━━━━━━━━━\u001b[0m \u001b[32m295.8/295.8 kB\u001b[0m \u001b[31m15.4 MB/s\u001b[0m eta \u001b[36m0:00:00\u001b[0m\n",
            "\u001b[?25hDownloading python_bidi-0.6.0-cp310-cp310-manylinux_2_17_x86_64.manylinux2014_x86_64.whl (281 kB)\n",
            "\u001b[2K   \u001b[90m━━━━━━━━━━━━━━━━━━━━━━━━━━━━━━━━━━━━━━━━\u001b[0m \u001b[32m281.3/281.3 kB\u001b[0m \u001b[31m18.1 MB/s\u001b[0m eta \u001b[36m0:00:00\u001b[0m\n",
            "\u001b[?25hDownloading reportlab-4.2.2-py3-none-any.whl (1.9 MB)\n",
            "\u001b[2K   \u001b[90m━━━━━━━━━━━━━━━━━━━━━━━━━━━━━━━━━━━━━━━━\u001b[0m \u001b[32m1.9/1.9 MB\u001b[0m \u001b[31m49.4 MB/s\u001b[0m eta \u001b[36m0:00:00\u001b[0m\n",
            "\u001b[?25hDownloading cssselect2-0.7.0-py3-none-any.whl (15 kB)\n",
            "Downloading oscrypto-1.3.0-py2.py3-none-any.whl (194 kB)\n",
            "\u001b[2K   \u001b[90m━━━━━━━━━━━━━━━━━━━━━━━━━━━━━━━━━━━━━━━━\u001b[0m \u001b[32m194.6/194.6 kB\u001b[0m \u001b[31m11.8 MB/s\u001b[0m eta \u001b[36m0:00:00\u001b[0m\n",
            "\u001b[?25hDownloading qrcode-7.4.2-py3-none-any.whl (46 kB)\n",
            "\u001b[2K   \u001b[90m━━━━━━━━━━━━━━━━━━━━━━━━━━━━━━━━━━━━━━━━\u001b[0m \u001b[32m46.2/46.2 kB\u001b[0m \u001b[31m2.9 MB/s\u001b[0m eta \u001b[36m0:00:00\u001b[0m\n",
            "\u001b[?25hDownloading uritools-4.0.3-py3-none-any.whl (10 kB)\n",
            "Downloading pypng-0.20220715.0-py3-none-any.whl (58 kB)\n",
            "\u001b[2K   \u001b[90m━━━━━━━━━━━━━━━━━━━━━━━━━━━━━━━━━━━━━━━━\u001b[0m \u001b[32m58.1/58.1 kB\u001b[0m \u001b[31m3.4 MB/s\u001b[0m eta \u001b[36m0:00:00\u001b[0m\n",
            "\u001b[?25hBuilding wheels for collected packages: svglib\n",
            "  Building wheel for svglib (setup.py) ... \u001b[?25l\u001b[?25hdone\n",
            "  Created wheel for svglib: filename=svglib-1.5.1-py3-none-any.whl size=30906 sha256=6f565cd487ee08d2f0dece509bef044c34ca355cc8b3c58b880e77411e80d5af\n",
            "  Stored in directory: /root/.cache/pip/wheels/56/9f/90/f37f4b9dbf82987a24ae14f15586e96715cb669a4710b3b85d\n",
            "Successfully built svglib\n",
            "Installing collected packages: python-bidi, pypng, arabic-reshaper, uritools, reportlab, qrcode, pypdf, oscrypto, cssselect2, svglib, pyhanko-certvalidator, pyHanko, xhtml2pdf\n",
            "Successfully installed arabic-reshaper-3.0.0 cssselect2-0.7.0 oscrypto-1.3.0 pyHanko-0.25.1 pyhanko-certvalidator-0.26.3 pypdf-4.3.1 pypng-0.20220715.0 python-bidi-0.6.0 qrcode-7.4.2 reportlab-4.2.2 svglib-1.5.1 uritools-4.0.3 xhtml2pdf-0.2.16\n"
          ]
        }
      ],
      "source": [
        "!pip install xhtml2pdf"
      ]
    },
    {
      "cell_type": "markdown",
      "source": [
        "JSON Charakter Datei laden"
      ],
      "metadata": {
        "id": "p5AyZOFoFRXy"
      }
    },
    {
      "cell_type": "code",
      "source": [
        "import json\n",
        "import re\n",
        "import textwrap\n",
        "from xhtml2pdf import pisa\n",
        "\n",
        "TAG_RE = re.compile(r'<[^>]+>')\n",
        "\n",
        "json_file=\"/content/drive/MyDrive/Colab Notebooks/fvtt-Actor-hesindian-schlangentreu-pCXAwjkUPBP5X2uz.json\"\n",
        "\n",
        "with open(json_file, 'r') as f:\n",
        "    data = json.load(f)\n",
        "\n",
        "#print(data)"
      ],
      "metadata": {
        "id": "zHJ4CWEsFI9_"
      },
      "execution_count": 6,
      "outputs": []
    },
    {
      "cell_type": "code",
      "source": [
        "class DSAEquipmentData():\n",
        "  name = None\n",
        "  points = None\n",
        "  description = None\n",
        "\n",
        "  def __init__(self, name, points):\n",
        "    self.name = name\n",
        "    self.points = points\n",
        "    self.description = \"n/a\"\n",
        "\n",
        "class DSAChar():\n",
        "  name = None\n",
        "  details = None\n",
        "  life_points = None\n",
        "  astralenergy = None\n",
        "  fate_points = None\n",
        "  experience_total = None\n",
        "  experience_spent = None\n",
        "  characteristics = None\n",
        "  char_items = None\n",
        "\n",
        "  def __init__(self, name):\n",
        "    self.name = name\n",
        "    self.details = {}\n",
        "    self.life_points = 0\n",
        "    self.astralenergy = 0\n",
        "    self.fate_points = 0\n",
        "    self.experience_total = 0\n",
        "    self.experience_spent = 0\n",
        "    self.characteristics = {}\n",
        "    self.char_items = {}\n"
      ],
      "metadata": {
        "id": "lDAENtt5JxoP"
      },
      "execution_count": 15,
      "outputs": []
    },
    {
      "cell_type": "code",
      "source": [
        "dsa_char = DSAChar(data[\"name\"])\n",
        "\n",
        "dsa_char.life_points = data[\"system\"][\"status\"][\"wounds\"][\"value\"]\n",
        "dsa_char.astralenergy = data[\"system\"][\"status\"][\"astralenergy\"][\"value\"]\n",
        "dsa_char.fate_points = data[\"system\"][\"status\"][\"fatePoints\"][\"value\"]\n",
        "\n",
        "dsa_char.experience_total = data[\"system\"][\"details\"][\"experience\"][\"total\"]\n",
        "dsa_char.experience_spent = data[\"system\"][\"details\"][\"experience\"][\"spent\"]\n",
        "\n",
        "for key,value in data[\"system\"][\"details\"].items():\n",
        "    if \"value\" in value:\n",
        "        dsa_char.details[key] = '<br/>\\n'.join(textwrap.wrap(TAG_RE.sub('', value[\"value\"]), width=80))\n",
        "        #dsa_char.details[key] = textwrap.shorten(TAG_RE.sub('', value[\"value\"]), width=40)\n",
        "        if len(dsa_char.details[key]) < 1:\n",
        "            dsa_char.details[key] = \"n/a\"\n",
        "\n",
        "for key,value in data[\"system\"][\"characteristics\"].items():\n",
        "    dsa_char.characteristics[value[\"label\"]] = value[\"initial\"] + value[\"advances\"]\n",
        "\n",
        "for item in data[\"items\"]:\n",
        "    item_name = item[\"name\"]\n",
        "    item_type = item[\"type\"]\n",
        "    if item_type not in dsa_char.char_items:\n",
        "        dsa_char.char_items[item_type] = {}\n",
        "\n",
        "    if \"quantity\" in item[\"system\"]:\n",
        "        dsa_char.char_items[item_type][item_name] = DSAEquipmentData(item_name, item[\"system\"][\"quantity\"][\"value\"])\n",
        "    elif \"talentValue\" in item[\"system\"]:\n",
        "        dsa_char.char_items[item_type][item_name] = DSAEquipmentData(item_name, item[\"system\"][\"talentValue\"][\"value\"])\n",
        "    elif \"maxRank\" in item[\"system\"]:\n",
        "        dsa_char.char_items[item_type][item_name] = DSAEquipmentData(item_name, item[\"system\"][\"maxRank\"][\"value\"])\n",
        "    elif \"APValue\" in item[\"system\"]:\n",
        "        dsa_char.char_items[item_type][item_name] = DSAEquipmentData(item_name, item[\"system\"][\"APValue\"][\"value\"])\n",
        "    else:\n",
        "        print(\"Fehlt: \" + item[\"name\"])\n",
        "        continue\n",
        "    dsa_char.char_items[item_type][item_name].description = '<br/>\\n'.join(textwrap.wrap(TAG_RE.sub('', item[\"system\"][\"description\"][\"value\"]), width=80))\n",
        "    if len(dsa_char.char_items[item_type][item_name].description) < 1:\n",
        "        dsa_char.char_items[item_type][item_name].description = \"n/a\"\n",
        "\n",
        "#print(dsa_char.name)\n",
        "#print(dsa_char.details)\n",
        "#print(dsa_char.characteristics)\n",
        "#print(dsa_char.char_items)"
      ],
      "metadata": {
        "id": "7-BpXHdtKGwk"
      },
      "execution_count": 29,
      "outputs": []
    },
    {
      "cell_type": "code",
      "source": [
        "# Create HTML for visualization\n",
        "html_content = '''<!DOCTYPE html>\n",
        "        <html>\n",
        "        <head>\n",
        "            <title>''' + dsa_char.name + '''</title>\n",
        "            <style>\n",
        "               table {border-collapse: collapse;}\n",
        "               .td_left {min-width: 200px; width: 200px; background-color: #eeeeee; padding: 2px; border: 1px solid; text-align: right; vertical-align:top; font-weight: bold;}\n",
        "               .td_right {min-width: 100px; background-color: #ffffff; padding: 2px; border: 1px solid; vertical-align:top;}\n",
        "\n",
        "               .td_value {min-width: 100px; width: 100px; background-color: #ffffff; padding: 2px; border: 1px solid; vertical-align:top;}\n",
        "               .td_description {min-width: 250px; background-color: #ffffff; padding: 2px; border: 1px solid; vertical-align:top;}\n",
        "            </style>\n",
        "        </head>\n",
        "        <body>'''\n",
        "\n",
        "html_content = html_content + '''<h1>{}</h1>'''.format(dsa_char.name)\n"
      ],
      "metadata": {
        "id": "LM6gCityFMZh"
      },
      "execution_count": 51,
      "outputs": []
    },
    {
      "cell_type": "code",
      "source": [
        "html_content = html_content + '''\\n<h2>{}</h2>\\n'''.format(\"Erfahrungspunkte\")\n",
        "html_content = html_content + '''<table border=\"1\" style=\"border: 1px solid;\">\\n'''\n",
        "html_content = html_content + '''<tr>'''\n",
        "html_content = html_content + '''<td class=\\\"td_left\\\">Total - verteilt = übrig</td><td class=\\\"td_right\\\">{} - {} = <b>{}</b></td>'''.format(dsa_char.experience_total, dsa_char.experience_spent, dsa_char.experience_total - dsa_char.experience_spent)\n",
        "html_content = html_content + '''</tr>\\n'''\n",
        "html_content = html_content + '''</table>\\n'''\n",
        "\n",
        "html_content = html_content + '''\\n<h2>{}</h2>\\n'''.format(\"Status\")\n",
        "html_content = html_content + '''<table border=\"1\" style=\"border: 1px solid;\">\\n'''\n",
        "html_content = html_content + '''<tr><td class=\\\"td_left\\\">Lebenspunkte</td><td class=\\\"td_right\\\">{}</td></tr>\\n'''.format(dsa_char.life_points)\n",
        "html_content = html_content + '''<tr><td class=\\\"td_left\\\">Astralpunkte</td><td class=\\\"td_right\\\">{}</td></tr>\\n'''.format(dsa_char.astralenergy)\n",
        "html_content = html_content + '''<tr><td class=\\\"td_left\\\">Schicksalspunkte</td><td class=\\\"td_right\\\">{}</td></tr>\\n'''.format(dsa_char.fate_points)\n",
        "html_content = html_content + '''</table>\\n'''\n",
        "\n",
        "html_content = html_content + '''\\n<h2>{}</h2>\\n'''.format(\"Details\")\n",
        "html_content = html_content + '''<table border=\"1\" style=\"border: 1px solid;\">\\n'''\n",
        "for key, value in dsa_char.details.items():\n",
        "    html_content = html_content + '''<tr>'''\n",
        "    html_content = html_content + '''<td class=\\\"td_left\\\">{}</td><td class=\\\"td_right\\\">{}</td>'''.format(key,value)\n",
        "    html_content = html_content + '''</tr>\\n'''\n",
        "html_content = html_content + '''</table>\\n'''\n",
        "\n",
        "\n",
        "html_content = html_content + '''\\n<h2>{}</h2>\\n'''.format(\"Eigenschaften\")\n",
        "html_content = html_content + '''<table border=\"1\" style=\"border: 1px solid;\">\\n'''\n",
        "for characteristic_key, characteristic_value in dsa_char.characteristics.items():\n",
        "    html_content = html_content + '''<tr>'''\n",
        "    html_content = html_content + '''<td class=\\\"td_left\\\">{}</td><td class=\\\"td_right\\\">{}</td>'''.format(characteristic_key,characteristic_value)\n",
        "    html_content = html_content + '''</tr>\\n'''\n",
        "html_content = html_content + '''</table>\\n'''\n",
        "\n",
        "for item_type in dsa_char.char_items:\n",
        "    if len(dsa_char.char_items[item_type]) < 1:\n",
        "      continue\n",
        "\n",
        "    html_content = html_content + '''\\n<h2>{}</h2>\\n'''.format(item_type)\n",
        "\n",
        "    html_content = html_content + '''<table border=\"1\" style=\"border: 1px solid;\">\\n'''\n",
        "    for key,value in dsa_char.char_items[item_type].items():\n",
        "        html_content = html_content + '''<tr>'''\n",
        "        html_content = html_content + '''<td class=\\\"td_left\\\">{}</td><td class=\\\"td_value\\\">{}</td><td class=\\\"td_description\\\">{}</td>'''.format(key,value.points,value.description)\n",
        "        html_content = html_content + '''</tr>\\n'''\n",
        "\n",
        "    html_content = html_content + '''</table>\\n'''\n",
        "\n",
        "html_content = html_content + '''</body></html>'''\n",
        "\n",
        "#print(html_content)\n"
      ],
      "metadata": {
        "id": "fm5-UInpJcZG"
      },
      "execution_count": 54,
      "outputs": []
    },
    {
      "cell_type": "code",
      "source": [
        "# Convert the generated HTML to PDF\n",
        "filename = \"/content/drive/MyDrive/Colab Notebooks/\" + dsa_char.name + \".pdf\"\n",
        "with open(filename, \"wb\") as pdf_file:\n",
        "    pisa_status = pisa.CreatePDF(html_content, dest=pdf_file)\n",
        "    print(pisa_status)\n"
      ],
      "metadata": {
        "colab": {
          "base_uri": "https://localhost:8080/"
        },
        "id": "RtH5VVtfGWi6",
        "outputId": "089ca04f-ca3f-4c12-9886-ba7a0fc1730a"
      },
      "execution_count": 55,
      "outputs": [
        {
          "output_type": "stream",
          "name": "stdout",
          "text": [
            "<xhtml2pdf.context.pisaContext object at 0x7d388f6afeb0>\n"
          ]
        }
      ]
    }
  ]
}